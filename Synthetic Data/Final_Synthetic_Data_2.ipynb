{
 "cells": [
  {
   "cell_type": "code",
   "execution_count": 1,
   "metadata": {},
   "outputs": [],
   "source": [
    "import matplotlib\n",
    "from sklearn.datasets import make_gaussian_quantiles\n",
    "import matplotlib.pyplot as plt\n",
    "from pandas import DataFrame\n",
    "import numpy as np"
   ]
  },
  {
   "cell_type": "code",
   "execution_count": 2,
   "metadata": {},
   "outputs": [],
   "source": [
    "AX1, AY1 = make_gaussian_quantiles(n_samples=40000,cov=2.5, n_features=2, n_classes=4)"
   ]
  },
  {
   "cell_type": "code",
   "execution_count": 3,
   "metadata": {},
   "outputs": [],
   "source": [
    "AX2 = np.copy(AX1)\n",
    "AX2[:,0] = np.interp(AX1[:,0], (np.min(AX1[:,0]), np.max(AX1[:,0])), (-15, 114))\n",
    "AX2[:,1] = np.interp(AX1[:,1], (np.min(AX1[:,1]), np.max(AX1[:,1])), (-5, 109))"
   ]
  },
  {
   "cell_type": "code",
   "execution_count": 4,
   "metadata": {},
   "outputs": [],
   "source": [
    "AX3 = AX2.reshape(200,200,2)\n",
    "AY2 = AY1.reshape(200,200)"
   ]
  },
  {
   "cell_type": "code",
   "execution_count": 5,
   "metadata": {},
   "outputs": [],
   "source": [
    "level20countD = np.zeros((200,200))\n",
    "level40countD = np.zeros((200,200))\n",
    "level60countD = np.zeros((200,200))\n",
    "level80countD = np.zeros((200,200))"
   ]
  },
  {
   "cell_type": "code",
   "execution_count": 6,
   "metadata": {},
   "outputs": [],
   "source": [
    "for i in range(200):\n",
    "    for j in range(200):\n",
    "        xval = int(np.floor(AX3[i][j][0]))\n",
    "        yval = int(np.floor(AX3[i][j][1]))\n",
    "        \n",
    "        if (xval > 199 or yval > 199 or xval < 0 or yval < 0):\n",
    "            continue;\n",
    "        elif AY2[i][j] == 3:            \n",
    "            level20countD[xval][yval] = level20countD[xval][yval] + 1;\n",
    "        elif AY2[i][j] == 2:\n",
    "            level40countD[xval][yval] = level40countD[xval][yval] + 1;\n",
    "        elif AY2[i][j] == 1:\n",
    "            level60countD[xval][yval] = level60countD[xval][yval] + 1;\n",
    "        elif AY2[i][j] == 0:\n",
    "            level80countD[xval][yval] = level80countD[xval][yval] + 1;"
   ]
  },
  {
   "cell_type": "code",
   "execution_count": 7,
   "metadata": {},
   "outputs": [],
   "source": [
    "outD = np.zeros((100,100))"
   ]
  },
  {
   "cell_type": "code",
   "execution_count": 8,
   "metadata": {},
   "outputs": [],
   "source": [
    "temp1 = []\n",
    "temp2 = []\n",
    "for i in range(0,100):\n",
    "    for j in range(0,100): \n",
    "            temp1.append(i)\n",
    "            temp2.append(j)\n",
    "            if level40countD[i][j] ==0 and level60countD[i][j] == 0 and level80countD[i][j] == 0:\n",
    "                outD[i][j] = 0;\n",
    "            elif level80countD[i][j] > 0:\n",
    "                outD[i][j] = 0.8\n",
    "            elif level60countD[i][j] > 0:\n",
    "                outD[i][j] = 0.6\n",
    "            elif level40countD[i][j] > 0:\n",
    "                outD[i][j] = 0.4  \n",
    "# print(len(temp1))\n",
    "# print(len(temp2))"
   ]
  },
  {
   "cell_type": "code",
   "execution_count": 9,
   "metadata": {},
   "outputs": [],
   "source": [
    "outD2 = outD.reshape(10000)\n",
    "dfD = DataFrame(dict(latitude = temp1, longitude = temp2, D = outD2))\n",
    "dfD.to_csv(r'C:\\Users\\Phoenix\\Desktop\\Data Creation\\Main Synthetic Data Analysis\\Synthetic2.csv', index = False, header=True)"
   ]
  },
  {
   "cell_type": "code",
   "execution_count": 10,
   "metadata": {},
   "outputs": [],
   "source": [
    "# import pandas as pd\n",
    "# data = pd.read_csv(r'C:\\Users\\Phoenix\\Desktop\\Data Creation\\Synthetic2.csv')\n",
    "# a = np.array(data['D'])\n",
    "# fig2 = plt.figure()\n",
    "# plt.contour(a.reshape(100, 100), [0.4, 0.6, 0.8])\n",
    "# plt.savefig('Synthetic2.png')\n",
    "# plt.close()"
   ]
  },
  {
   "cell_type": "code",
   "execution_count": 11,
   "metadata": {},
   "outputs": [
    {
     "data": {
      "image/png": "[encoded data removed]",
      "text/plain": [
       "<Figure size 432x288 with 1 Axes>"
      ]
     },
     "metadata": {
      "needs_background": "light"
     },
     "output_type": "display_data"
    }
   ],
   "source": [
    "import pandas as pd\n",
    "data = pd.read_csv(r'C:\\Users\\Phoenix\\Desktop\\Data Creation\\Main Synthetic Data Analysis\\Synthetic2.csv')\n",
    "a = np.array(data['D'])\n",
    "fig, ax = plt.subplots()\n",
    "CS = ax.contour(a.reshape(100, 100), [0, 0.4, 0.6, 0.8])\n",
    "ax.clabel(CS, inline=1, fontsize=10)\n",
    "ax.set_title('Synthetic_Data_2')\n",
    "plt.savefig('Synthetic_Data_2.png')"
   ]
  },
  {
   "cell_type": "code",
   "execution_count": null,
   "metadata": {},
   "outputs": [],
   "source": []
  }
 ],
 "metadata": {
  "kernelspec": {
   "display_name": "Python 3",
   "language": "python",
   "name": "python3"
  },
  "language_info": {
   "codemirror_mode": {
    "name": "ipython",
    "version": 3
   },
   "file_extension": ".py",
   "mimetype": "text/x-python",
   "name": "python",
   "nbconvert_exporter": "python",
   "pygments_lexer": "ipython3",
   "version": "3.7.3"
  }
 },
 "nbformat": 4,
 "nbformat_minor": 2
}
