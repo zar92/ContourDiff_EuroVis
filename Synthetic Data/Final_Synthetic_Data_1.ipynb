{
 "cells": [
  {
   "cell_type": "code",
   "execution_count": 12,
   "metadata": {},
   "outputs": [],
   "source": [
    "import matplotlib\n",
    "from sklearn.datasets import make_gaussian_quantiles\n",
    "import matplotlib.pyplot as plt\n",
    "from pandas import DataFrame\n",
    "import numpy as np"
   ]
  },
  {
   "cell_type": "code",
   "execution_count": 13,
   "metadata": {},
   "outputs": [],
   "source": [
    "AX1, AY1 = make_gaussian_quantiles(n_samples=40000,cov=2.5, n_features=2, n_classes=4)\n",
    "# print (AX1) #n_samples numbers of 2D coordinates\n",
    "# print (AY1) #The integer labels for quantile membership of each sample"
   ]
  },
  {
   "cell_type": "code",
   "execution_count": 14,
   "metadata": {},
   "outputs": [],
   "source": [
    "AX2 = np.copy(AX1)\n",
    "# print (AX2)\n",
    "AX2[:,0] = np.interp(AX1[:,0], (np.min(AX1[:,0]), np.max(AX1[:,0])), (-15, 114))\n",
    "AX2[:,1] = np.interp(AX1[:,1], (np.min(AX1[:,1]), np.max(AX1[:,1])), (-5, 109))\n",
    "# print (AX2[:,1]) # y value of each coordinate"
   ]
  },
  {
   "cell_type": "code",
   "execution_count": 15,
   "metadata": {},
   "outputs": [],
   "source": [
    "AX3 = AX2.reshape(200,200,2)\n",
    "# print (AX3)\n",
    "AY2 = AY1.reshape(200,200)\n",
    "# print (AY2[0])"
   ]
  },
  {
   "cell_type": "code",
   "execution_count": 16,
   "metadata": {},
   "outputs": [],
   "source": [
    "level00countD = np.zeros((200,200))\n",
    "level25countD = np.zeros((200,200))\n",
    "level50countD = np.zeros((200,200))\n",
    "level75countD = np.zeros((200,200))"
   ]
  },
  {
   "cell_type": "code",
   "execution_count": 17,
   "metadata": {},
   "outputs": [],
   "source": [
    "for i in range(200):\n",
    "    for j in range(200):\n",
    "        xval = int(np.floor(AX3[i][j][0]))\n",
    "        yval = int(np.floor(AX3[i][j][1]))\n",
    "\n",
    "        if (xval > 199 or yval > 199 or xval < 0 or yval < 0):\n",
    "            continue;\n",
    "        elif AY2[i][j] == 3:            \n",
    "            level00countD[xval][yval] = level00countD[xval][yval] + 1;\n",
    "        elif AY2[i][j] == 2:\n",
    "            level25countD[xval][yval] = level25countD[xval][yval] + 1;\n",
    "        elif AY2[i][j] == 1:\n",
    "            level50countD[xval][yval] = level50countD[xval][yval] + 1;\n",
    "        elif AY2[i][j] == 0:\n",
    "            level75countD[xval][yval] = level75countD[xval][yval] + 1;"
   ]
  },
  {
   "cell_type": "code",
   "execution_count": 18,
   "metadata": {},
   "outputs": [],
   "source": [
    "outD = np.zeros((100,100))"
   ]
  },
  {
   "cell_type": "code",
   "execution_count": 19,
   "metadata": {},
   "outputs": [],
   "source": [
    "temp1 = []\n",
    "temp2 = []\n",
    "for i in range(0,100):\n",
    "    for j in range(0,100):\n",
    "            temp1.append(i)\n",
    "            temp2.append(j)\n",
    "            if level25countD[i][j] ==0 and level50countD[i][j] == 0 and level75countD[i][j] == 0:\n",
    "                outD[i][j] = 0;\n",
    "            elif level75countD[i][j] > 0:\n",
    "                outD[i][j] = 0.75;\n",
    "            elif level50countD[i][j] > 0:\n",
    "                outD[i][j] = 0.5;\n",
    "            elif level25countD[i][j] > 0:\n",
    "                outD[i][j] = 0.25;"
   ]
  },
  {
   "cell_type": "code",
   "execution_count": 20,
   "metadata": {},
   "outputs": [],
   "source": [
    "outD2= outD.reshape(10000)\n",
    "dfD = DataFrame(dict(latitude = temp1, longitude = temp2, D = outD2))\n",
    "dfD.to_csv(r'C:\\Users\\Phoenix\\Desktop\\Data Creation\\Main Synthetic Data Analysis\\Synthetic1.csv', index = False, header=True)"
   ]
  },
  {
   "cell_type": "code",
   "execution_count": 21,
   "metadata": {},
   "outputs": [],
   "source": [
    "# import pandas as pd\n",
    "# data = pd.read_csv(r'C:\\Users\\Phoenix\\Desktop\\Data Creation\\Synthetic1.csv')\n",
    "# a = np.array(data['D'])\n",
    "# fig2 = plt.figure()\n",
    "# plt.contour(a.reshape(100, 100), [0, 0.25, 0.5, 0.75])\n",
    "# plt.savefig('Synthetic1.png')\n",
    "# plt.close()"
   ]
  },
  {
   "cell_type": "code",
   "execution_count": 22,
   "metadata": {},
   "outputs": [
    {
     "data": {
      "image/png": "[encoded data removed]",
      "text/plain": [
       "<Figure size 432x288 with 1 Axes>"
      ]
     },
     "metadata": {
      "needs_background": "light"
     },
     "output_type": "display_data"
    }
   ],
   "source": [
    "import pandas as pd\n",
    "data = pd.read_csv(r'C:\\Users\\Phoenix\\Desktop\\Data Creation\\Main Synthetic Data Analysis\\Synthetic1.csv')\n",
    "a = np.array(data['D'])\n",
    "fig, ax = plt.subplots()\n",
    "CS = ax.contour(a.reshape(100, 100), [0, 0.25, 0.5, 0.75])\n",
    "ax.clabel(CS, inline=1, fontsize=10)\n",
    "ax.set_title('Synthetic_Data_1')\n",
    "plt.savefig('Synthetic_Data_1.png')"
   ]
  },
  {
   "cell_type": "code",
   "execution_count": null,
   "metadata": {},
   "outputs": [],
   "source": []
  },
  {
   "cell_type": "code",
   "execution_count": null,
   "metadata": {},
   "outputs": [],
   "source": []
  }
 ],
 "metadata": {
  "kernelspec": {
   "display_name": "Python 3",
   "language": "python",
   "name": "python3"
  },
  "language_info": {
   "codemirror_mode": {
    "name": "ipython",
    "version": 3
   },
   "file_extension": ".py",
   "mimetype": "text/x-python",
   "name": "python",
   "nbconvert_exporter": "python",
   "pygments_lexer": "ipython3",
   "version": "3.7.3"
  }
 },
 "nbformat": 4,
 "nbformat_minor": 2
}
